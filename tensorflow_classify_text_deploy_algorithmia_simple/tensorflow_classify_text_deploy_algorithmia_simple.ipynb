{
 "cells": [
  {
   "cell_type": "markdown",
   "metadata": {
    "colab_type": "text",
    "id": "view-in-github"
   },
   "source": [
    "<a href=\"https://colab.research.google.com/github/algorithmiaio/model-deployment/blob/master/tensorflow_classify_text_deploy_algorithmia/tensorflow_classify_text_deploy_algorithmia.ipynb\" target=\"_parent\"><img src=\"https://colab.research.google.com/assets/colab-badge.svg\" alt=\"Open In Colab\"/></a>\n"
   ]
  },
  {
   "cell_type": "markdown",
   "metadata": {},
   "source": [
    "# Classifying Text with Tensorflow & Deploying with Algorithmia\n",
    "\n",
    "This notebook aims to show how you can deploy a tensorflow model to Algorithmia.\n",
    "You can also deploy this model from Google Colab! Just click on the \"Open in Colab\" badge above."
   ]
  },
  {
   "cell_type": "markdown",
   "metadata": {},
   "source": [
    "## 1.1 Setup virtual environment & install packages\n",
    "\n",
    "Setup a virtual environment using Python 3.6 (conda works great)\n",
    "\n",
    "Pip install the packages in the cell below, in your environment.\n",
    "\n",
    "If the notebook doesn't work with the packages above, please create an issue [here](https://github.com/algorithmiaio/model-deployment/issues).\n",
    "\n",
    "**(Optional for Google Colab):** Please keep in mind that Google Colab constantly updates their default packages.\n",
    "\n",
    "Please pip install the following packages if you're on Google Colab:"
   ]
  },
  {
   "cell_type": "code",
   "execution_count": 1,
   "metadata": {},
   "outputs": [],
   "source": [
    "import sys"
   ]
  },
  {
   "cell_type": "code",
   "execution_count": 2,
   "metadata": {},
   "outputs": [
    {
     "name": "stdout",
     "output_type": "stream",
     "text": [
      "Requirement already satisfied: tensorflow==1.12.2 in /Users/besirkurtulmus/anaconda3/lib/python3.6/site-packages (1.12.2)\n",
      "Requirement already satisfied: algorithmia==1.2.1 in /Users/besirkurtulmus/anaconda3/lib/python3.6/site-packages (1.2.1)\n",
      "Requirement already satisfied: jupyter==1.0.0 in /Users/besirkurtulmus/anaconda3/lib/python3.6/site-packages (1.0.0)\n",
      "Requirement already satisfied: gitpython==2.1.11 in /Users/besirkurtulmus/anaconda3/lib/python3.6/site-packages (2.1.11)\n",
      "Requirement already satisfied: matplotlib==3.0.2 in /Users/besirkurtulmus/anaconda3/lib/python3.6/site-packages (3.0.2)\n",
      "Requirement already satisfied: urllib3==1.24.3 in /Users/besirkurtulmus/anaconda3/lib/python3.6/site-packages (1.24.3)\n",
      "Requirement already satisfied: retry==0.9.2 in /Users/besirkurtulmus/anaconda3/lib/python3.6/site-packages (0.9.2)\n",
      "Requirement already satisfied: numpy==1.16.1 in /Users/besirkurtulmus/anaconda3/lib/python3.6/site-packages (1.16.1)\n",
      "Requirement already satisfied: gast>=0.2.0 in /Users/besirkurtulmus/anaconda3/lib/python3.6/site-packages (from tensorflow==1.12.2) (0.3.2)\n",
      "Requirement already satisfied: keras-preprocessing>=1.0.5 in /Users/besirkurtulmus/anaconda3/lib/python3.6/site-packages (from tensorflow==1.12.2) (1.0.9)\n",
      "Requirement already satisfied: protobuf>=3.6.1 in /Users/besirkurtulmus/anaconda3/lib/python3.6/site-packages (from tensorflow==1.12.2) (3.10.0)\n",
      "Requirement already satisfied: termcolor>=1.1.0 in /Users/besirkurtulmus/anaconda3/lib/python3.6/site-packages (from tensorflow==1.12.2) (1.1.0)\n",
      "Requirement already satisfied: tensorboard<1.13.0,>=1.12.0 in /Users/besirkurtulmus/anaconda3/lib/python3.6/site-packages (from tensorflow==1.12.2) (1.12.2)\n",
      "Requirement already satisfied: astor>=0.6.0 in /Users/besirkurtulmus/anaconda3/lib/python3.6/site-packages (from tensorflow==1.12.2) (0.8.0)\n",
      "Requirement already satisfied: absl-py>=0.1.6 in /Users/besirkurtulmus/anaconda3/lib/python3.6/site-packages (from tensorflow==1.12.2) (0.8.1)\n",
      "Requirement already satisfied: wheel>=0.26 in /Users/besirkurtulmus/anaconda3/lib/python3.6/site-packages (from tensorflow==1.12.2) (0.31.1)\n",
      "Requirement already satisfied: grpcio>=1.8.6 in /Users/besirkurtulmus/anaconda3/lib/python3.6/site-packages (from tensorflow==1.12.2) (1.25.0)\n",
      "Requirement already satisfied: six>=1.10.0 in /Users/besirkurtulmus/.local/lib/python3.6/site-packages (from tensorflow==1.12.2) (1.13.0)\n",
      "Requirement already satisfied: keras-applications>=1.0.6 in /Users/besirkurtulmus/anaconda3/lib/python3.6/site-packages (from tensorflow==1.12.2) (1.0.7)\n",
      "Requirement already satisfied: requests in /Users/besirkurtulmus/.local/lib/python3.6/site-packages (from algorithmia==1.2.1) (2.22.0)\n",
      "Requirement already satisfied: algorithmia-api-client<2.0,>=1.0.0 in /Users/besirkurtulmus/.local/lib/python3.6/site-packages (from algorithmia==1.2.1) (1.1.0)\n",
      "Requirement already satisfied: enum34 in /Users/besirkurtulmus/.local/lib/python3.6/site-packages (from algorithmia==1.2.1) (1.1.6)\n",
      "Requirement already satisfied: notebook in /Users/besirkurtulmus/anaconda3/lib/python3.6/site-packages (from jupyter==1.0.0) (5.5.0)\n",
      "Requirement already satisfied: qtconsole in /Users/besirkurtulmus/anaconda3/lib/python3.6/site-packages (from jupyter==1.0.0) (4.3.1)\n",
      "Requirement already satisfied: jupyter-console in /Users/besirkurtulmus/anaconda3/lib/python3.6/site-packages (from jupyter==1.0.0) (5.2.0)\n",
      "Requirement already satisfied: nbconvert in /Users/besirkurtulmus/anaconda3/lib/python3.6/site-packages (from jupyter==1.0.0) (5.3.1)\n",
      "Requirement already satisfied: ipykernel in /Users/besirkurtulmus/anaconda3/lib/python3.6/site-packages (from jupyter==1.0.0) (4.8.2)\n",
      "Requirement already satisfied: ipywidgets in /Users/besirkurtulmus/anaconda3/lib/python3.6/site-packages (from jupyter==1.0.0) (7.2.1)\n",
      "Requirement already satisfied: gitdb2>=2.0.0 in /Users/besirkurtulmus/anaconda3/lib/python3.6/site-packages (from gitpython==2.1.11) (2.0.6)\n",
      "Requirement already satisfied: python-dateutil>=2.1 in /Users/besirkurtulmus/.local/lib/python3.6/site-packages (from matplotlib==3.0.2) (2.8.1)\n",
      "Requirement already satisfied: pyparsing!=2.0.4,!=2.1.2,!=2.1.6,>=2.0.1 in /Users/besirkurtulmus/anaconda3/lib/python3.6/site-packages (from matplotlib==3.0.2) (2.2.0)\n",
      "Requirement already satisfied: cycler>=0.10 in /Users/besirkurtulmus/anaconda3/lib/python3.6/site-packages (from matplotlib==3.0.2) (0.10.0)\n",
      "Requirement already satisfied: kiwisolver>=1.0.1 in /Users/besirkurtulmus/anaconda3/lib/python3.6/site-packages (from matplotlib==3.0.2) (1.0.1)\n",
      "Requirement already satisfied: decorator>=3.4.2 in /Users/besirkurtulmus/anaconda3/lib/python3.6/site-packages (from retry==0.9.2) (4.3.0)\n",
      "Requirement already satisfied: py<2.0.0,>=1.4.26 in /Users/besirkurtulmus/anaconda3/lib/python3.6/site-packages (from retry==0.9.2) (1.5.3)\n",
      "Requirement already satisfied: setuptools in /Users/besirkurtulmus/anaconda3/lib/python3.6/site-packages (from protobuf>=3.6.1->tensorflow==1.12.2) (39.1.0)\n",
      "Requirement already satisfied: werkzeug>=0.11.10 in /Users/besirkurtulmus/anaconda3/lib/python3.6/site-packages (from tensorboard<1.13.0,>=1.12.0->tensorflow==1.12.2) (0.14.1)\n",
      "Requirement already satisfied: markdown>=2.6.8 in /Users/besirkurtulmus/anaconda3/lib/python3.6/site-packages (from tensorboard<1.13.0,>=1.12.0->tensorflow==1.12.2) (3.1.1)\n",
      "Requirement already satisfied: h5py in /Users/besirkurtulmus/anaconda3/lib/python3.6/site-packages (from keras-applications>=1.0.6->tensorflow==1.12.2) (2.7.1)\n",
      "Requirement already satisfied: certifi>=2017.4.17 in /Users/besirkurtulmus/.local/lib/python3.6/site-packages (from requests->algorithmia==1.2.1) (2019.9.11)\n",
      "Requirement already satisfied: chardet<3.1.0,>=3.0.2 in /Users/besirkurtulmus/.local/lib/python3.6/site-packages (from requests->algorithmia==1.2.1) (3.0.4)\n",
      "Requirement already satisfied: idna<2.9,>=2.5 in /Users/besirkurtulmus/.local/lib/python3.6/site-packages (from requests->algorithmia==1.2.1) (2.8)\n",
      "Requirement already satisfied: jinja2 in /Users/besirkurtulmus/anaconda3/lib/python3.6/site-packages (from notebook->jupyter==1.0.0) (2.10)\n",
      "Requirement already satisfied: terminado>=0.8.1 in /Users/besirkurtulmus/anaconda3/lib/python3.6/site-packages (from notebook->jupyter==1.0.0) (0.8.1)\n",
      "Requirement already satisfied: Send2Trash in /Users/besirkurtulmus/anaconda3/lib/python3.6/site-packages (from notebook->jupyter==1.0.0) (1.5.0)\n",
      "Requirement already satisfied: traitlets>=4.2.1 in /Users/besirkurtulmus/anaconda3/lib/python3.6/site-packages (from notebook->jupyter==1.0.0) (4.3.2)\n",
      "Requirement already satisfied: ipython-genutils in /Users/besirkurtulmus/anaconda3/lib/python3.6/site-packages (from notebook->jupyter==1.0.0) (0.2.0)\n",
      "Requirement already satisfied: pyzmq>=17 in /Users/besirkurtulmus/anaconda3/lib/python3.6/site-packages (from notebook->jupyter==1.0.0) (17.0.0)\n",
      "Requirement already satisfied: jupyter-client>=5.2.0 in /Users/besirkurtulmus/anaconda3/lib/python3.6/site-packages (from notebook->jupyter==1.0.0) (5.2.3)\n",
      "Requirement already satisfied: tornado>=4 in /Users/besirkurtulmus/anaconda3/lib/python3.6/site-packages (from notebook->jupyter==1.0.0) (5.0.2)\n",
      "Requirement already satisfied: nbformat in /Users/besirkurtulmus/anaconda3/lib/python3.6/site-packages (from notebook->jupyter==1.0.0) (4.4.0)\n",
      "Requirement already satisfied: jupyter-core>=4.4.0 in /Users/besirkurtulmus/anaconda3/lib/python3.6/site-packages (from notebook->jupyter==1.0.0) (4.4.0)\n",
      "Requirement already satisfied: ipython in /Users/besirkurtulmus/anaconda3/lib/python3.6/site-packages (from jupyter-console->jupyter==1.0.0) (6.4.0)\n",
      "Requirement already satisfied: prompt_toolkit<2.0.0,>=1.0.0 in /Users/besirkurtulmus/anaconda3/lib/python3.6/site-packages (from jupyter-console->jupyter==1.0.0) (1.0.18)\n",
      "Requirement already satisfied: pygments in /Users/besirkurtulmus/anaconda3/lib/python3.6/site-packages (from jupyter-console->jupyter==1.0.0) (2.2.0)\n",
      "Requirement already satisfied: mistune>=0.7.4 in /Users/besirkurtulmus/anaconda3/lib/python3.6/site-packages (from nbconvert->jupyter==1.0.0) (0.8.3)\n",
      "Requirement already satisfied: entrypoints>=0.2.2 in /Users/besirkurtulmus/anaconda3/lib/python3.6/site-packages (from nbconvert->jupyter==1.0.0) (0.2.3)\n",
      "Requirement already satisfied: bleach in /Users/besirkurtulmus/anaconda3/lib/python3.6/site-packages (from nbconvert->jupyter==1.0.0) (2.1.3)\n",
      "Requirement already satisfied: pandocfilters>=1.4.1 in /Users/besirkurtulmus/anaconda3/lib/python3.6/site-packages (from nbconvert->jupyter==1.0.0) (1.4.2)\n",
      "Requirement already satisfied: testpath in /Users/besirkurtulmus/anaconda3/lib/python3.6/site-packages (from nbconvert->jupyter==1.0.0) (0.3.1)\n",
      "Requirement already satisfied: widgetsnbextension~=3.2.0 in /Users/besirkurtulmus/anaconda3/lib/python3.6/site-packages (from ipywidgets->jupyter==1.0.0) (3.2.1)\n",
      "Requirement already satisfied: smmap2>=2.0.0 in /Users/besirkurtulmus/anaconda3/lib/python3.6/site-packages (from gitdb2>=2.0.0->gitpython==2.1.11) (2.0.5)\n",
      "Requirement already satisfied: MarkupSafe>=0.23 in /Users/besirkurtulmus/anaconda3/lib/python3.6/site-packages (from jinja2->notebook->jupyter==1.0.0) (1.0)\n",
      "Requirement already satisfied: jsonschema!=2.5.0,>=2.4 in /Users/besirkurtulmus/anaconda3/lib/python3.6/site-packages (from nbformat->notebook->jupyter==1.0.0) (2.6.0)\n",
      "Requirement already satisfied: simplegeneric>0.8 in /Users/besirkurtulmus/anaconda3/lib/python3.6/site-packages (from ipython->jupyter-console->jupyter==1.0.0) (0.8.1)\n",
      "Requirement already satisfied: pexpect; sys_platform != \"win32\" in /Users/besirkurtulmus/anaconda3/lib/python3.6/site-packages (from ipython->jupyter-console->jupyter==1.0.0) (4.5.0)\n",
      "Requirement already satisfied: pickleshare in /Users/besirkurtulmus/anaconda3/lib/python3.6/site-packages (from ipython->jupyter-console->jupyter==1.0.0) (0.7.4)\n",
      "Requirement already satisfied: appnope; sys_platform == \"darwin\" in /Users/besirkurtulmus/anaconda3/lib/python3.6/site-packages (from ipython->jupyter-console->jupyter==1.0.0) (0.1.0)\n",
      "Requirement already satisfied: jedi>=0.10 in /Users/besirkurtulmus/anaconda3/lib/python3.6/site-packages (from ipython->jupyter-console->jupyter==1.0.0) (0.12.0)\n",
      "Requirement already satisfied: backcall in /Users/besirkurtulmus/anaconda3/lib/python3.6/site-packages (from ipython->jupyter-console->jupyter==1.0.0) (0.1.0)\n",
      "Requirement already satisfied: wcwidth in /Users/besirkurtulmus/anaconda3/lib/python3.6/site-packages (from prompt_toolkit<2.0.0,>=1.0.0->jupyter-console->jupyter==1.0.0) (0.1.7)\n",
      "Requirement already satisfied: html5lib!=1.0b1,!=1.0b2,!=1.0b3,!=1.0b4,!=1.0b5,!=1.0b6,!=1.0b7,!=1.0b8,>=0.99999999pre in /Users/besirkurtulmus/anaconda3/lib/python3.6/site-packages (from bleach->nbconvert->jupyter==1.0.0) (1.0.1)\n"
     ]
    },
    {
     "name": "stdout",
     "output_type": "stream",
     "text": [
      "Requirement already satisfied: ptyprocess>=0.5 in /Users/besirkurtulmus/anaconda3/lib/python3.6/site-packages (from pexpect; sys_platform != \"win32\"->ipython->jupyter-console->jupyter==1.0.0) (0.5.2)\n",
      "Requirement already satisfied: parso>=0.2.0 in /Users/besirkurtulmus/anaconda3/lib/python3.6/site-packages (from jedi>=0.10->ipython->jupyter-console->jupyter==1.0.0) (0.2.0)\n",
      "Requirement already satisfied: webencodings in /Users/besirkurtulmus/anaconda3/lib/python3.6/site-packages (from html5lib!=1.0b1,!=1.0b2,!=1.0b3,!=1.0b4,!=1.0b5,!=1.0b6,!=1.0b7,!=1.0b8,>=0.99999999pre->bleach->nbconvert->jupyter==1.0.0) (0.5.1)\n",
      "\u001b[31mdistributed 1.21.8 requires msgpack, which is not installed.\u001b[0m\n",
      "\u001b[33mYou are using pip version 10.0.1, however version 19.3.1 is available.\n",
      "You should consider upgrading via the 'pip install --upgrade pip' command.\u001b[0m\n"
     ]
    }
   ],
   "source": [
    "!{sys.executable} -m pip install tensorflow==1.12.2 algorithmia==1.2.1 jupyter==1.0.0 gitpython==2.1.11 matplotlib==3.0.2 urllib3==1.24.3 retry==0.9.2 numpy==1.16.1"
   ]
  },
  {
   "cell_type": "markdown",
   "metadata": {},
   "source": [
    "## 1.2 Imports for Tensorflow\n",
    "\n",
    "Let's now import everything we need to download our dataset and train our model:"
   ]
  },
  {
   "cell_type": "code",
   "execution_count": 3,
   "metadata": {},
   "outputs": [
    {
     "name": "stderr",
     "output_type": "stream",
     "text": [
      "/Users/besirkurtulmus/anaconda3/lib/python3.6/site-packages/h5py/__init__.py:36: FutureWarning: Conversion of the second argument of issubdtype from `float` to `np.floating` is deprecated. In future, it will be treated as `np.float64 == np.dtype(float).type`.\n",
      "  from ._conv import register_converters as _register_converters\n"
     ]
    },
    {
     "name": "stdout",
     "output_type": "stream",
     "text": [
      "Installed Tensorflow version: 1.12.2\n"
     ]
    }
   ],
   "source": [
    "from __future__ import absolute_import, division, print_function\n",
    "import tensorflow as tf\n",
    "from tensorflow import keras\n",
    "import numpy as np\n",
    "from retry import retry\n",
    "\n",
    "print(\"Installed Tensorflow version: {}\".format(tf.__version__))"
   ]
  },
  {
   "cell_type": "markdown",
   "metadata": {},
   "source": [
    "## 2. Dowload the IMDB dataset\n",
    "\n",
    "Let's download the IMDB dataset using the keras built-in datasets tool:"
   ]
  },
  {
   "cell_type": "code",
   "execution_count": 4,
   "metadata": {},
   "outputs": [
    {
     "name": "stdout",
     "output_type": "stream",
     "text": [
      "Downloading the IMDB dataset...\n",
      "Download complete!\n"
     ]
    }
   ],
   "source": [
    "imdb = keras.datasets.imdb\n",
    "\n",
    "print(\"Downloading the IMDB dataset...\")\n",
    "\n",
    "(train_data, train_labels), (test_data, test_labels) = imdb.load_data(num_words=10000)\n",
    "\n",
    "print(\"Download complete!\")"
   ]
  },
  {
   "cell_type": "markdown",
   "metadata": {},
   "source": [
    "## 3. Explore the data\n",
    "\n",
    "Let's see how many reviews we have in our dataset:"
   ]
  },
  {
   "cell_type": "code",
   "execution_count": 5,
   "metadata": {},
   "outputs": [
    {
     "name": "stdout",
     "output_type": "stream",
     "text": [
      "Training entries: 25000, labels: 25000\n"
     ]
    }
   ],
   "source": [
    "print(\"Training entries: {}, labels: {}\".format(len(train_data), len(train_labels)))"
   ]
  },
  {
   "cell_type": "markdown",
   "metadata": {},
   "source": [
    "Let's preview the first entry in the dataset:"
   ]
  },
  {
   "cell_type": "code",
   "execution_count": 6,
   "metadata": {
    "scrolled": true
   },
   "outputs": [
    {
     "name": "stdout",
     "output_type": "stream",
     "text": [
      "[1, 14, 22, 16, 43, 530, 973, 1622, 1385, 65, 458, 4468, 66, 3941, 4, 173, 36, 256, 5, 25, 100, 43, 838, 112, 50, 670, 2, 9, 35, 480, 284, 5, 150, 4, 172, 112, 167, 2, 336, 385, 39, 4, 172, 4536, 1111, 17, 546, 38, 13, 447, 4, 192, 50, 16, 6, 147, 2025, 19, 14, 22, 4, 1920, 4613, 469, 4, 22, 71, 87, 12, 16, 43, 530, 38, 76, 15, 13, 1247, 4, 22, 17, 515, 17, 12, 16, 626, 18, 2, 5, 62, 386, 12, 8, 316, 8, 106, 5, 4, 2223, 5244, 16, 480, 66, 3785, 33, 4, 130, 12, 16, 38, 619, 5, 25, 124, 51, 36, 135, 48, 25, 1415, 33, 6, 22, 12, 215, 28, 77, 52, 5, 14, 407, 16, 82, 2, 8, 4, 107, 117, 5952, 15, 256, 4, 2, 7, 3766, 5, 723, 36, 71, 43, 530, 476, 26, 400, 317, 46, 7, 4, 2, 1029, 13, 104, 88, 4, 381, 15, 297, 98, 32, 2071, 56, 26, 141, 6, 194, 7486, 18, 4, 226, 22, 21, 134, 476, 26, 480, 5, 144, 30, 5535, 18, 51, 36, 28, 224, 92, 25, 104, 4, 226, 65, 16, 38, 1334, 88, 12, 16, 283, 5, 16, 4472, 113, 103, 32, 15, 16, 5345, 19, 178, 32]\n"
     ]
    }
   ],
   "source": [
    "print(train_data[0])"
   ]
  },
  {
   "cell_type": "markdown",
   "metadata": {},
   "source": [
    "Before you can start training, you need to make sure all of your reviews are vectorized. Fortunately, our dataset is already vectorized.\n",
    "\n",
    "Let's also check the vector lengths of the first two reviews:"
   ]
  },
  {
   "cell_type": "code",
   "execution_count": 7,
   "metadata": {},
   "outputs": [
    {
     "name": "stdout",
     "output_type": "stream",
     "text": [
      "First vector length: 218\n",
      "Second vector length: 189\n"
     ]
    }
   ],
   "source": [
    "print(\"First vector length: {}\".format(len(train_data[0])))\n",
    "print(\"Second vector length: {}\".format(len(train_data[1])))"
   ]
  },
  {
   "cell_type": "markdown",
   "metadata": {},
   "source": [
    "As you can see, they're not fixed-length. This is an issue, as most models can't handle variable-length vectors.\n",
    "\n",
    "We need to later fix them to a static size."
   ]
  },
  {
   "cell_type": "markdown",
   "metadata": {},
   "source": [
    "## 4. Convert the integers back to words\n",
    "\n",
    "Before we fix the lengths of vectors, let's first confirm that these vectors are indeed movie reviews.\n",
    "\n",
    "Our dataset comes with a word index. We can use this to decode movie vectors.\n",
    "\n",
    "Let's write a function called `decode_review(text)` that can decode vectors back into movie reviews."
   ]
  },
  {
   "cell_type": "code",
   "execution_count": 8,
   "metadata": {},
   "outputs": [],
   "source": [
    "# A dictionary mapping words to an integer index\n",
    "word_index = imdb.get_word_index()\n",
    "\n",
    "# The first indices are reserved\n",
    "word_index = {k:(v+3) for k,v in word_index.items()} \n",
    "word_index[\"<PAD>\"] = 0\n",
    "word_index[\"<START>\"] = 1\n",
    "word_index[\"<UNK>\"] = 2  # unknown\n",
    "word_index[\"<UNUSED>\"] = 3\n",
    "\n",
    "reverse_word_index = dict([(value, key) for (key, value) in word_index.items()])\n",
    "\n",
    "def decode_review(text):\n",
    "    return ' '.join([reverse_word_index.get(i, '?') for i in text])"
   ]
  },
  {
   "cell_type": "markdown",
   "metadata": {},
   "source": [
    "Now let's check the texrt version of the first review:"
   ]
  },
  {
   "cell_type": "code",
   "execution_count": 9,
   "metadata": {},
   "outputs": [
    {
     "data": {
      "text/plain": [
       "\"<START> this film was just brilliant casting location scenery story direction everyone's really suited the part they played and you could just imagine being there robert <UNK> is an amazing actor and now the same being director <UNK> father came from the same scottish island as myself so i loved the fact there was a real connection with this film the witty remarks throughout the film were great it was just brilliant so much that i bought the film as soon as it was released for <UNK> and would recommend it to everyone to watch and the fly fishing was amazing really cried at the end it was so sad and you know what they say if you cry at a film it must have been good and this definitely was also <UNK> to the two little boy's that played the <UNK> of norman and paul they were just brilliant children are often left out of the <UNK> list i think because the stars that play them all grown up are such a big profile for the whole film but these children are amazing and should be praised for what they have done don't you think the whole story was so lovely because it was true and was someone's life after all that was shared with us all\""
      ]
     },
     "execution_count": 9,
     "metadata": {},
     "output_type": "execute_result"
    }
   ],
   "source": [
    "decode_review(train_data[0])"
   ]
  },
  {
   "cell_type": "markdown",
   "metadata": {},
   "source": [
    "## 5. Prepare the data\n",
    "\n",
    "Now it's time to create the training & testing datasets.\n",
    "\n",
    "We're also going to resize our vectors up to 256. We'll add `<PAD>` tokens to fill them up:"
   ]
  },
  {
   "cell_type": "code",
   "execution_count": 10,
   "metadata": {},
   "outputs": [],
   "source": [
    "train_data = keras.preprocessing.sequence.pad_sequences(train_data,\n",
    "                                                        value=word_index[\"<PAD>\"],\n",
    "                                                        padding='post',\n",
    "                                                        maxlen=256)\n",
    "\n",
    "test_data = keras.preprocessing.sequence.pad_sequences(test_data,\n",
    "                                                       value=word_index[\"<PAD>\"],\n",
    "                                                       padding='post',\n",
    "                                                       maxlen=256)"
   ]
  },
  {
   "cell_type": "markdown",
   "metadata": {},
   "source": [
    "Let's now confirm the new vector sizes:"
   ]
  },
  {
   "cell_type": "code",
   "execution_count": 11,
   "metadata": {},
   "outputs": [
    {
     "name": "stdout",
     "output_type": "stream",
     "text": [
      "First vector length: 256\n",
      "Second vector length: 256\n"
     ]
    }
   ],
   "source": [
    "print(\"First vector length: {}\".format(len(train_data[0])))\n",
    "print(\"Second vector length: {}\".format(len(train_data[1])))"
   ]
  },
  {
   "cell_type": "markdown",
   "metadata": {},
   "source": [
    "Let's also confirm that the first vector has been padded:"
   ]
  },
  {
   "cell_type": "code",
   "execution_count": 12,
   "metadata": {
    "scrolled": true
   },
   "outputs": [
    {
     "name": "stdout",
     "output_type": "stream",
     "text": [
      "[   1   14   22   16   43  530  973 1622 1385   65  458 4468   66 3941\n",
      "    4  173   36  256    5   25  100   43  838  112   50  670    2    9\n",
      "   35  480  284    5  150    4  172  112  167    2  336  385   39    4\n",
      "  172 4536 1111   17  546   38   13  447    4  192   50   16    6  147\n",
      " 2025   19   14   22    4 1920 4613  469    4   22   71   87   12   16\n",
      "   43  530   38   76   15   13 1247    4   22   17  515   17   12   16\n",
      "  626   18    2    5   62  386   12    8  316    8  106    5    4 2223\n",
      " 5244   16  480   66 3785   33    4  130   12   16   38  619    5   25\n",
      "  124   51   36  135   48   25 1415   33    6   22   12  215   28   77\n",
      "   52    5   14  407   16   82    2    8    4  107  117 5952   15  256\n",
      "    4    2    7 3766    5  723   36   71   43  530  476   26  400  317\n",
      "   46    7    4    2 1029   13  104   88    4  381   15  297   98   32\n",
      " 2071   56   26  141    6  194 7486   18    4  226   22   21  134  476\n",
      "   26  480    5  144   30 5535   18   51   36   28  224   92   25  104\n",
      "    4  226   65   16   38 1334   88   12   16  283    5   16 4472  113\n",
      "  103   32   15   16 5345   19  178   32    0    0    0    0    0    0\n",
      "    0    0    0    0    0    0    0    0    0    0    0    0    0    0\n",
      "    0    0    0    0    0    0    0    0    0    0    0    0    0    0\n",
      "    0    0    0    0]\n"
     ]
    }
   ],
   "source": [
    "print(train_data[0])"
   ]
  },
  {
   "cell_type": "markdown",
   "metadata": {},
   "source": [
    "As you can see above, the vectors has been padded w/ zeros."
   ]
  },
  {
   "cell_type": "markdown",
   "metadata": {},
   "source": [
    "## 6. Build the model\n",
    "\n",
    "Now we can define our model layers:"
   ]
  },
  {
   "cell_type": "code",
   "execution_count": 13,
   "metadata": {},
   "outputs": [
    {
     "name": "stdout",
     "output_type": "stream",
     "text": [
      "_________________________________________________________________\n",
      "Layer (type)                 Output Shape              Param #   \n",
      "=================================================================\n",
      "embedding (Embedding)        (None, None, 16)          160000    \n",
      "_________________________________________________________________\n",
      "global_average_pooling1d (Gl (None, 16)                0         \n",
      "_________________________________________________________________\n",
      "dense (Dense)                (None, 16)                272       \n",
      "_________________________________________________________________\n",
      "dense_1 (Dense)              (None, 1)                 17        \n",
      "=================================================================\n",
      "Total params: 160,289\n",
      "Trainable params: 160,289\n",
      "Non-trainable params: 0\n",
      "_________________________________________________________________\n"
     ]
    }
   ],
   "source": [
    "# input shape is the vocabulary count used for the movie reviews (10,000 words)\n",
    "vocab_size = 10000\n",
    "\n",
    "model = keras.Sequential()\n",
    "model.add(keras.layers.Embedding(vocab_size, 16))\n",
    "model.add(keras.layers.GlobalAveragePooling1D())\n",
    "model.add(keras.layers.Dense(16, activation=tf.nn.relu))\n",
    "model.add(keras.layers.Dense(1, activation=tf.nn.sigmoid))\n",
    "\n",
    "model.summary()"
   ]
  },
  {
   "cell_type": "markdown",
   "metadata": {},
   "source": [
    "Let's select our optimizer, loss function & metric:"
   ]
  },
  {
   "cell_type": "code",
   "execution_count": 14,
   "metadata": {},
   "outputs": [],
   "source": [
    "model.compile(optimizer='adam',\n",
    "              loss='binary_crossentropy',\n",
    "              metrics=['accuracy'])"
   ]
  },
  {
   "cell_type": "markdown",
   "metadata": {},
   "source": [
    "Our model is now ready to train."
   ]
  },
  {
   "cell_type": "markdown",
   "metadata": {},
   "source": [
    "## 7. Create a validation set\n",
    "\n",
    "We need to create a validation dataset that will be used for training:"
   ]
  },
  {
   "cell_type": "code",
   "execution_count": 15,
   "metadata": {},
   "outputs": [],
   "source": [
    "x_val = train_data[:10000]\n",
    "partial_x_train = train_data[10000:]\n",
    "\n",
    "y_val = train_labels[:10000]\n",
    "partial_y_train = train_labels[10000:]"
   ]
  },
  {
   "cell_type": "markdown",
   "metadata": {},
   "source": [
    "## 8. Train the model\n",
    "\n",
    "We can now train our model:"
   ]
  },
  {
   "cell_type": "code",
   "execution_count": 16,
   "metadata": {},
   "outputs": [
    {
     "name": "stderr",
     "output_type": "stream",
     "text": [
      "/Users/besirkurtulmus/anaconda3/lib/python3.6/site-packages/tensorflow/python/ops/gradients_impl.py:112: UserWarning: Converting sparse IndexedSlices to a dense Tensor of unknown shape. This may consume a large amount of memory.\n",
      "  \"Converting sparse IndexedSlices to a dense Tensor of unknown shape. \"\n"
     ]
    },
    {
     "name": "stdout",
     "output_type": "stream",
     "text": [
      "Train on 15000 samples, validate on 10000 samples\n",
      "Epoch 1/40\n",
      "15000/15000 [==============================] - 1s 42us/step - loss: 0.6916 - acc: 0.6328 - val_loss: 0.6895 - val_acc: 0.7236\n",
      "Epoch 2/40\n",
      "15000/15000 [==============================] - 0s 21us/step - loss: 0.6858 - acc: 0.7368 - val_loss: 0.6816 - val_acc: 0.6923\n",
      "Epoch 3/40\n",
      "15000/15000 [==============================] - 0s 19us/step - loss: 0.6736 - acc: 0.7365 - val_loss: 0.6659 - val_acc: 0.7446\n",
      "Epoch 4/40\n",
      "15000/15000 [==============================] - 0s 20us/step - loss: 0.6519 - acc: 0.7526 - val_loss: 0.6419 - val_acc: 0.7723\n",
      "Epoch 5/40\n",
      "15000/15000 [==============================] - 0s 21us/step - loss: 0.6204 - acc: 0.7916 - val_loss: 0.6081 - val_acc: 0.7822\n",
      "Epoch 6/40\n",
      "15000/15000 [==============================] - 0s 20us/step - loss: 0.5805 - acc: 0.8099 - val_loss: 0.5692 - val_acc: 0.7945\n",
      "Epoch 7/40\n",
      "15000/15000 [==============================] - 0s 21us/step - loss: 0.5356 - acc: 0.8279 - val_loss: 0.5275 - val_acc: 0.8171\n",
      "Epoch 8/40\n",
      "15000/15000 [==============================] - 0s 21us/step - loss: 0.4899 - acc: 0.8448 - val_loss: 0.4873 - val_acc: 0.8302\n",
      "Epoch 9/40\n",
      "15000/15000 [==============================] - 0s 20us/step - loss: 0.4475 - acc: 0.8572 - val_loss: 0.4512 - val_acc: 0.8427\n",
      "Epoch 10/40\n",
      "15000/15000 [==============================] - 0s 20us/step - loss: 0.4090 - acc: 0.8716 - val_loss: 0.4205 - val_acc: 0.8502\n",
      "Epoch 11/40\n",
      "15000/15000 [==============================] - 0s 24us/step - loss: 0.3764 - acc: 0.8798 - val_loss: 0.3970 - val_acc: 0.8548\n",
      "Epoch 12/40\n",
      "15000/15000 [==============================] - 0s 21us/step - loss: 0.3488 - acc: 0.8863 - val_loss: 0.3741 - val_acc: 0.8625\n",
      "Epoch 13/40\n",
      "15000/15000 [==============================] - 0s 22us/step - loss: 0.3240 - acc: 0.8932 - val_loss: 0.3577 - val_acc: 0.8658\n",
      "Epoch 14/40\n",
      "15000/15000 [==============================] - 0s 24us/step - loss: 0.3034 - acc: 0.8993 - val_loss: 0.3433 - val_acc: 0.8708\n",
      "Epoch 15/40\n",
      "15000/15000 [==============================] - 0s 25us/step - loss: 0.2855 - acc: 0.9036 - val_loss: 0.3318 - val_acc: 0.8733\n",
      "Epoch 16/40\n",
      "15000/15000 [==============================] - 0s 20us/step - loss: 0.2702 - acc: 0.9067 - val_loss: 0.3225 - val_acc: 0.8754\n",
      "Epoch 17/40\n",
      "15000/15000 [==============================] - 0s 21us/step - loss: 0.2555 - acc: 0.9130 - val_loss: 0.3146 - val_acc: 0.8756\n",
      "Epoch 18/40\n",
      "15000/15000 [==============================] - 0s 20us/step - loss: 0.2427 - acc: 0.9175 - val_loss: 0.3080 - val_acc: 0.8795\n",
      "Epoch 19/40\n",
      "15000/15000 [==============================] - 0s 22us/step - loss: 0.2309 - acc: 0.9214 - val_loss: 0.3027 - val_acc: 0.8808\n",
      "Epoch 20/40\n",
      "15000/15000 [==============================] - 0s 24us/step - loss: 0.2205 - acc: 0.9238 - val_loss: 0.2983 - val_acc: 0.8825\n",
      "Epoch 21/40\n",
      "15000/15000 [==============================] - 0s 22us/step - loss: 0.2104 - acc: 0.9287 - val_loss: 0.2944 - val_acc: 0.8823\n",
      "Epoch 22/40\n",
      "15000/15000 [==============================] - 0s 20us/step - loss: 0.2012 - acc: 0.9319 - val_loss: 0.2919 - val_acc: 0.8832\n",
      "Epoch 23/40\n",
      "15000/15000 [==============================] - 0s 20us/step - loss: 0.1927 - acc: 0.9347 - val_loss: 0.2897 - val_acc: 0.8839\n",
      "Epoch 24/40\n",
      "15000/15000 [==============================] - 0s 20us/step - loss: 0.1843 - acc: 0.9395 - val_loss: 0.2873 - val_acc: 0.8849\n",
      "Epoch 25/40\n",
      "15000/15000 [==============================] - 0s 20us/step - loss: 0.1769 - acc: 0.9427 - val_loss: 0.2859 - val_acc: 0.8843\n",
      "Epoch 26/40\n",
      "15000/15000 [==============================] - 0s 21us/step - loss: 0.1696 - acc: 0.9457 - val_loss: 0.2851 - val_acc: 0.8849\n",
      "Epoch 27/40\n",
      "15000/15000 [==============================] - 0s 20us/step - loss: 0.1634 - acc: 0.9491 - val_loss: 0.2852 - val_acc: 0.8852\n",
      "Epoch 28/40\n",
      "15000/15000 [==============================] - 0s 19us/step - loss: 0.1569 - acc: 0.9507 - val_loss: 0.2842 - val_acc: 0.8862\n",
      "Epoch 29/40\n",
      "15000/15000 [==============================] - 0s 20us/step - loss: 0.1510 - acc: 0.9530 - val_loss: 0.2844 - val_acc: 0.8866\n",
      "Epoch 30/40\n",
      "15000/15000 [==============================] - 0s 20us/step - loss: 0.1458 - acc: 0.9557 - val_loss: 0.2853 - val_acc: 0.8863\n",
      "Epoch 31/40\n",
      "15000/15000 [==============================] - 0s 20us/step - loss: 0.1397 - acc: 0.9587 - val_loss: 0.2860 - val_acc: 0.8862\n",
      "Epoch 32/40\n",
      "15000/15000 [==============================] - 0s 20us/step - loss: 0.1348 - acc: 0.9606 - val_loss: 0.2872 - val_acc: 0.8854\n",
      "Epoch 33/40\n",
      "15000/15000 [==============================] - 0s 21us/step - loss: 0.1294 - acc: 0.9630 - val_loss: 0.2886 - val_acc: 0.8851\n",
      "Epoch 34/40\n",
      "15000/15000 [==============================] - 0s 22us/step - loss: 0.1249 - acc: 0.9646 - val_loss: 0.2906 - val_acc: 0.8849\n",
      "Epoch 35/40\n",
      "15000/15000 [==============================] - 0s 21us/step - loss: 0.1208 - acc: 0.9656 - val_loss: 0.2918 - val_acc: 0.8846\n",
      "Epoch 36/40\n",
      "15000/15000 [==============================] - 0s 20us/step - loss: 0.1158 - acc: 0.9684 - val_loss: 0.2942 - val_acc: 0.8840\n",
      "Epoch 37/40\n",
      "15000/15000 [==============================] - 0s 21us/step - loss: 0.1119 - acc: 0.9695 - val_loss: 0.2967 - val_acc: 0.8839\n",
      "Epoch 38/40\n",
      "15000/15000 [==============================] - 0s 20us/step - loss: 0.1084 - acc: 0.9701 - val_loss: 0.2987 - val_acc: 0.8843\n",
      "Epoch 39/40\n",
      "15000/15000 [==============================] - 0s 20us/step - loss: 0.1041 - acc: 0.9717 - val_loss: 0.3007 - val_acc: 0.8839\n",
      "Epoch 40/40\n",
      "15000/15000 [==============================] - 0s 21us/step - loss: 0.1004 - acc: 0.9735 - val_loss: 0.3035 - val_acc: 0.8836\n"
     ]
    }
   ],
   "source": [
    "history = model.fit(partial_x_train,\n",
    "                    partial_y_train,\n",
    "                    epochs=40,\n",
    "                    batch_size=512,\n",
    "                    validation_data=(x_val, y_val),\n",
    "                    verbose=1)"
   ]
  },
  {
   "cell_type": "markdown",
   "metadata": {},
   "source": [
    "## 9. Evaluate the model\n",
    "\n",
    "Let's now get the loss & accuracy of our model using our test dataset:"
   ]
  },
  {
   "cell_type": "code",
   "execution_count": 17,
   "metadata": {},
   "outputs": [
    {
     "name": "stdout",
     "output_type": "stream",
     "text": [
      "25000/25000 [==============================] - 0s 13us/step\n",
      "Loss: 0.32303804344177245, Accuracy: 0.87292\n"
     ]
    }
   ],
   "source": [
    "results = model.evaluate(test_data, test_labels)\n",
    "\n",
    "print(\"Loss: {}, Accuracy: {}\".format(results[0], results[1]))"
   ]
  },
  {
   "cell_type": "markdown",
   "metadata": {},
   "source": [
    "## 10. Create a graph of accuracy and loss over time\n",
    "\n",
    "Let's also visually see the how our model has trained over time.\n",
    "\n",
    "We'll graph two things:\n",
    "\n",
    "* Training and validation loss\n",
    "* Training and validation accuracy"
   ]
  },
  {
   "cell_type": "code",
   "execution_count": 18,
   "metadata": {},
   "outputs": [
    {
     "data": {
      "image/png": "[encoded data removed]",
      "text/plain": [
       "<Figure size 432x288 with 1 Axes>"
      ]
     },
     "metadata": {},
     "output_type": "display_data"
    }
   ],
   "source": [
    "%matplotlib inline\n",
    "import matplotlib.pyplot as plt\n",
    "\n",
    "history_dict = history.history\n",
    "\n",
    "acc = history_dict['acc']\n",
    "val_acc = history_dict['val_acc']\n",
    "loss = history_dict['loss']\n",
    "val_loss = history_dict['val_loss']\n",
    "\n",
    "epochs = range(1, len(acc) + 1)\n",
    "\n",
    "# \"bo\" is for \"blue dot\"\n",
    "plt.plot(epochs, loss, 'bo', label='Training loss')\n",
    "# b is for \"solid blue line\"\n",
    "plt.plot(epochs, val_loss, 'b', label='Validation loss')\n",
    "plt.title('Training and validation loss')\n",
    "plt.xlabel('Epochs')\n",
    "plt.ylabel('Loss')\n",
    "plt.legend()\n",
    "\n",
    "plt.show()"
   ]
  },
  {
   "cell_type": "code",
   "execution_count": 19,
   "metadata": {},
   "outputs": [
    {
     "data": {
      "image/png": "[encoded data removed]",
      "text/plain": [
       "<Figure size 432x288 with 1 Axes>"
      ]
     },
     "metadata": {},
     "output_type": "display_data"
    }
   ],
   "source": [
    "plt.clf()   # clear figure\n",
    "\n",
    "plt.plot(epochs, acc, 'bo', label='Training acc')\n",
    "plt.plot(epochs, val_acc, 'b', label='Validation acc')\n",
    "plt.title('Training and validation accuracy')\n",
    "plt.xlabel('Epochs')\n",
    "plt.ylabel('Accuracy')\n",
    "plt.legend()\n",
    "\n",
    "plt.show()"
   ]
  },
  {
   "cell_type": "markdown",
   "metadata": {},
   "source": [
    "## 11. Deployment"
   ]
  },
  {
   "cell_type": "markdown",
   "metadata": {},
   "source": [
    "### Algorithmia credentials\n",
    "\n",
    "If you haven't already, you can signup on Algorithmia [here](https://algorithmia.com/signup?utm_medium=jupyter-notebook&utm_source=jupyter-notebook).\n",
    "When creating your API key, make sure to enable `Read & Write` for `Data Access` and enable `Management APIs`."
   ]
  },
  {
   "cell_type": "code",
   "execution_count": 24,
   "metadata": {},
   "outputs": [
    {
     "name": "stdout",
     "output_type": "stream",
     "text": [
      "Algorithm namepace: b/movie_review_sentiment\n",
      "Algorithm URL: https://algorithmia.com/algorithms/b/movie_review_sentiment\n",
      "Pushing source code upstream, uploading model file & compiling algorithm...\n",
      "Algorithm Source Code is available at: https://algorithmia.com/algorithms/b/movie_review_sentiment/source\n",
      "Testing new compiled algorithm via API endpoint...\n",
      "Test complete!\n",
      "Publishing and deploying algorithm...\n",
      "Algorithm has been deployed!\n"
     ]
    }
   ],
   "source": [
    "%run -i \"deploy.py\" -k \"simXXXXXXXXXXXXXXXXXXXXXXXXX\" -u \"b\" -a \"movie_review_sentiment\" -m \"model.py\" -d \"model_requirements.txt\""
   ]
  },
  {
   "cell_type": "markdown",
   "metadata": {},
   "source": [
    "You just successfully deployed your Tensorflow model!\n",
    "\n",
    "You can call this API endpoint from anywhere: your mobile app, your website, and more..."
   ]
  },
  {
   "cell_type": "markdown",
   "metadata": {},
   "source": [
    "### License\n",
    "\n",
    "This notebook is based on the guide from: https://www.tensorflow.org/tutorials/keras/basic_text_classification"
   ]
  },
  {
   "cell_type": "code",
   "execution_count": null,
   "metadata": {},
   "outputs": [],
   "source": [
    "#@title MIT License\n",
    "#\n",
    "# Copyright (c) 2017 François Chollet\n",
    "#\n",
    "# Permission is hereby granted, free of charge, to any person obtaining a\n",
    "# copy of this software and associated documentation files (the \"Software\"),\n",
    "# to deal in the Software without restriction, including without limitation\n",
    "# the rights to use, copy, modify, merge, publish, distribute, sublicense,\n",
    "# and/or sell copies of the Software, and to permit persons to whom the\n",
    "# Software is furnished to do so, subject to the following conditions:\n",
    "#\n",
    "# The above copyright notice and this permission notice shall be included in\n",
    "# all copies or substantial portions of the Software.\n",
    "#\n",
    "# THE SOFTWARE IS PROVIDED \"AS IS\", WITHOUT WARRANTY OF ANY KIND, EXPRESS OR\n",
    "# IMPLIED, INCLUDING BUT NOT LIMITED TO THE WARRANTIES OF MERCHANTABILITY,\n",
    "# FITNESS FOR A PARTICULAR PURPOSE AND NONINFRINGEMENT. IN NO EVENT SHALL\n",
    "# THE AUTHORS OR COPYRIGHT HOLDERS BE LIABLE FOR ANY CLAIM, DAMAGES OR OTHER\n",
    "# LIABILITY, WHETHER IN AN ACTION OF CONTRACT, TORT OR OTHERWISE, ARISING\n",
    "# FROM, OUT OF OR IN CONNECTION WITH THE SOFTWARE OR THE USE OR OTHER\n",
    "# DEALINGS IN THE SOFTWARE."
   ]
  }
 ],
 "metadata": {
  "kernelspec": {
   "display_name": "Conda Python 3.6",
   "language": "python",
   "name": "conda_python3.6"
  },
  "language_info": {
   "codemirror_mode": {
    "name": "ipython",
    "version": 3
   },
   "file_extension": ".py",
   "mimetype": "text/x-python",
   "name": "python",
   "nbconvert_exporter": "python",
   "pygments_lexer": "ipython3",
   "version": "3.6.5"
  }
 },
 "nbformat": 4,
 "nbformat_minor": 2
}
