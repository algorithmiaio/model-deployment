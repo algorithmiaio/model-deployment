{
 "cells": [
  {
   "cell_type": "markdown",
   "metadata": {
    "colab_type": "text",
    "id": "view-in-github"
   },
   "source": [
    "<a href=\"https://colab.research.google.com/github/algorithmiaio/model-deployment/blob/master/simple_publish_model/simple_publish_model.ipynb\" target=\"_parent\"><img src=\"https://colab.research.google.com/assets/colab-badge.svg\" alt=\"Open In Colab\"/></a>\n"
   ]
  },
  {
   "cell_type": "markdown",
   "metadata": {},
   "source": [
    "# Simple Algorithm Publishing \n",
    "\n",
    "If you have already created an Algorithm via the web interface and simply want to (re)publish it, run this notebook after you git commit new code to your Algorithm."
   ]
  },
  {
   "cell_type": "markdown",
   "metadata": {},
   "source": [
    "## 1. Setup credentials\n",
    "\n",
    "Before we can proceed, we need to setup our credentials.\n",
    "\n",
    "If you haven't already, you can signup on Algorithmia [here](https://algorithmia.com/signup?utm_medium=jupyter-notebook&utm_source=jupyter-notebook).\n",
    "When creating your API key, make sure to enable `Read & Write` for `Data Access` and enable `Management APIs`.\n"
   ]
  },
  {
   "cell_type": "code",
   "execution_count": null,
   "metadata": {
    "collapsed": true
   },
   "outputs": [],
   "source": [
    "# Your Algorithmia API key\n",
    "api_key = \"simXXXXXXXXXXXXXXXXXXXXXXXXX\" # Create an API key with BOTH \"Read & Write Data\" and \"Manage Algorithms\": https://algorithmia.com/user#credentials\n",
    "\n",
    "# Define your username & algorithm name, this will be used later\n",
    "username = \"username\"\n",
    "algoname = \"movie_review_sentiment\"\n",
    "\n",
    "# Enterprise users only: change this to your Algorithmia endpoint URL, e.g. \"https://api.algorithmia.MYCOMPANY.com\"\n",
    "algorithmia_endpoint_url = \"https://api.algorithmia.com\"\n",
    "\n",
    "if username == \"username\":\n",
    "    raise Exception(\"Don't forget to provide your username!\")\n",
    "elif api_key == \"simXXXXXXXXXXXXXXXXXXXXXXXXX\":\n",
    "    raise Exception(\"Don't forget to provide your API key\")"
   ]
  },
  {
   "cell_type": "markdown",
   "metadata": {},
   "source": [
    "## 2. Commit your code\n",
    "\n",
    "From your IDE or local terminal, commit any code changes to your Algorithm's repo (the git URL can be found on the \"Settings\" tab of your Algorithm's page).\n",
    "\n",
    "Committing code automatically triggers a compile on Algorithmia's servers. This can take a few seconds or minutes depending on the complexity of your code, so if the next step fails, wait a few minutes and try again."
   ]
  },
  {
   "cell_type": "markdown",
   "metadata": {},
   "source": [
    "## 3. Publish the algorithm"
   ]
  },
  {
   "cell_type": "markdown",
   "metadata": {},
   "source": [
    "### Create an Algorithmia client\n",
    "\n",
    "Using your credentials specified above, connect to your Algorithmia instance."
   ]
  },
  {
   "cell_type": "code",
   "execution_count": null,
   "metadata": {
    "collapsed": true
   },
   "outputs": [],
   "source": [
    "!pip install algorithmia>=1.1.4\n",
    "\n",
    "import Algorithmia\n",
    "\n",
    "# Create a new algorithmia client\n",
    "client = Algorithmia.client(api_key, algorithmia_endpoint_url)\n",
    "\n",
    "# Algorithms are refered with the following schema: username/algoname\n",
    "algo_namespace = \"{}/{}\".format(username, algoname)"
   ]
  },
  {
   "cell_type": "markdown",
   "metadata": {},
   "source": [
    "### Test the algorithm\n",
    "\n",
    "Before we publish, we need to make sure our latest code works. Set the `algo_input` value appropriately, and test.\n",
    "\n",
    "If this fails, and it has been a few minutes since your last git commit, double-check your code and commit again."
   ]
  },
  {
   "cell_type": "code",
   "execution_count": null,
   "metadata": {
    "collapsed": false
   },
   "outputs": [],
   "source": [
    "algo_input = {\n",
    "    \"text\": \"This is a very positive review for the movie. I absolutely loved it!\"\n",
    "}\n",
    "\n",
    "algo = client.algo(algo_namespace)\n",
    "latest_hash = algo.info().version_info.git_hash\n",
    "algo_test = client.algo(\"{}/{}\".format(algo_namespace,latest_hash))\n",
    "print(\"Result: {}\".format(algo_test.pipe(algo_input).result))"
   ]
  },
  {
   "cell_type": "markdown",
   "metadata": {},
   "source": [
    "### Publish the algorithm\n",
    "\n",
    "If our test worked, we're ready to publish a new version"
   ]
  },
  {
   "cell_type": "code",
   "execution_count": null,
   "metadata": {
    "collapsed": false
   },
   "outputs": [],
   "source": [
    "# Now let's publish/deploy our algorithm\n",
    "algo.compile()\n",
    "algo.publish()"
   ]
  },
  {
   "cell_type": "markdown",
   "metadata": {},
   "source": [
    "Lastly, we can test the published version:"
   ]
  },
  {
   "cell_type": "code",
   "execution_count": null,
   "metadata": {
    "collapsed": false
   },
   "outputs": [],
   "source": [
    "latest_version = client.algo(algo_namespace).info().version_info.semantic_version\n",
    "algo_live = client.algo(\"{}/{}\".format(algo_namespace,latest_version))\n",
    "print(\"Result: {}\".format(algo_live.pipe(algo_input).result))"
   ]
  },
  {
   "cell_type": "markdown",
   "metadata": {},
   "source": [
    "You just successfully deployed your algorithm!\n",
    "\n",
    "You can call this API endpoint from anywhere: your mobile app, your website, and more..."
   ]
  }
 ],
 "metadata": {
  "kernelspec": {
   "display_name": "Python 3",
   "language": "python",
   "name": "python3"
  },
  "language_info": {
   "codemirror_mode": {
    "name": "ipython",
    "version": 3
   },
   "file_extension": ".py",
   "mimetype": "text/x-python",
   "name": "python",
   "nbconvert_exporter": "python",
   "pygments_lexer": "ipython3",
   "version": "3.6.5"
  }
 },
 "nbformat": 4,
 "nbformat_minor": 2
}